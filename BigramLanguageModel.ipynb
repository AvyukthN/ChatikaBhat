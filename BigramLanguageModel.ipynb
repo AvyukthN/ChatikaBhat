{
 "cells": [
  {
   "cell_type": "markdown",
   "id": "93aeafed-c065-4316-853b-b784d720b37d",
   "metadata": {},
   "source": [
    "### BIGRAM LANGUAGE MODEL"
   ]
  },
  {
   "cell_type": "code",
   "execution_count": 1,
   "id": "c845d314-9d9c-4f0a-b6f0-d0b5d46f9ce6",
   "metadata": {},
   "outputs": [
    {
     "data": {
      "text/html": [
       "<div>\n",
       "<style scoped>\n",
       "    .dataframe tbody tr th:only-of-type {\n",
       "        vertical-align: middle;\n",
       "    }\n",
       "\n",
       "    .dataframe tbody tr th {\n",
       "        vertical-align: top;\n",
       "    }\n",
       "\n",
       "    .dataframe thead th {\n",
       "        text-align: right;\n",
       "    }\n",
       "</style>\n",
       "<table border=\"1\" class=\"dataframe\">\n",
       "  <thead>\n",
       "    <tr style=\"text-align: right;\">\n",
       "      <th></th>\n",
       "      <th>Unnamed: 0</th>\n",
       "      <th>artist</th>\n",
       "      <th>song</th>\n",
       "      <th>lyric</th>\n",
       "      <th>next lyric</th>\n",
       "    </tr>\n",
       "  </thead>\n",
       "  <tbody>\n",
       "    <tr>\n",
       "      <th>0</th>\n",
       "      <td>0</td>\n",
       "      <td>Fetty Wap</td>\n",
       "      <td>Trap Queen</td>\n",
       "      <td>rgf productions</td>\n",
       "      <td>remy boyz yahah</td>\n",
       "    </tr>\n",
       "    <tr>\n",
       "      <th>1</th>\n",
       "      <td>0</td>\n",
       "      <td>Fetty Wap</td>\n",
       "      <td>Trap Queen</td>\n",
       "      <td>remy boyz yahah</td>\n",
       "      <td>1738 ayy</td>\n",
       "    </tr>\n",
       "    <tr>\n",
       "      <th>2</th>\n",
       "      <td>0</td>\n",
       "      <td>Fetty Wap</td>\n",
       "      <td>Trap Queen</td>\n",
       "      <td>1738 ayy</td>\n",
       "      <td>im like hey whats up hello</td>\n",
       "    </tr>\n",
       "    <tr>\n",
       "      <th>3</th>\n",
       "      <td>0</td>\n",
       "      <td>Fetty Wap</td>\n",
       "      <td>Trap Queen</td>\n",
       "      <td>im like hey whats up hello</td>\n",
       "      <td>seen yo pretty ass soon as you came in the door</td>\n",
       "    </tr>\n",
       "    <tr>\n",
       "      <th>4</th>\n",
       "      <td>0</td>\n",
       "      <td>Fetty Wap</td>\n",
       "      <td>Trap Queen</td>\n",
       "      <td>seen yo pretty ass soon as you came in the door</td>\n",
       "      <td>i just wanna chill got a sack for us to roll</td>\n",
       "    </tr>\n",
       "    <tr>\n",
       "      <th>...</th>\n",
       "      <td>...</td>\n",
       "      <td>...</td>\n",
       "      <td>...</td>\n",
       "      <td>...</td>\n",
       "      <td>...</td>\n",
       "    </tr>\n",
       "    <tr>\n",
       "      <th>1445296</th>\n",
       "      <td>21096</td>\n",
       "      <td>Das EFX</td>\n",
       "      <td>Gimme Dat Micraphone</td>\n",
       "      <td>dont let me have to transform like optimus prime</td>\n",
       "      <td>cause then ima have to flip the script and get...</td>\n",
       "    </tr>\n",
       "    <tr>\n",
       "      <th>1445297</th>\n",
       "      <td>21096</td>\n",
       "      <td>Das EFX</td>\n",
       "      <td>Gimme Dat Micraphone</td>\n",
       "      <td>cause then ima have to flip the script and get...</td>\n",
       "      <td>run laps around your faggot crew like mario an...</td>\n",
       "    </tr>\n",
       "    <tr>\n",
       "      <th>1445298</th>\n",
       "      <td>21096</td>\n",
       "      <td>Das EFX</td>\n",
       "      <td>Gimme Dat Micraphone</td>\n",
       "      <td>run laps around your faggot crew like mario an...</td>\n",
       "      <td>when i expand like spandex my jam wrecks the a...</td>\n",
       "    </tr>\n",
       "    <tr>\n",
       "      <th>1445299</th>\n",
       "      <td>21096</td>\n",
       "      <td>Das EFX</td>\n",
       "      <td>Gimme Dat Micraphone</td>\n",
       "      <td>when i expand like spandex my jam wrecks the a...</td>\n",
       "      <td>you better be on the way before im doin you an...</td>\n",
       "    </tr>\n",
       "    <tr>\n",
       "      <th>1445300</th>\n",
       "      <td>21096</td>\n",
       "      <td>Das EFX</td>\n",
       "      <td>Gimme Dat Micraphone</td>\n",
       "      <td>you better be on the way before im doin you an...</td>\n",
       "      <td>embed</td>\n",
       "    </tr>\n",
       "  </tbody>\n",
       "</table>\n",
       "<p>1445301 rows × 5 columns</p>\n",
       "</div>"
      ],
      "text/plain": [
       "         Unnamed: 0     artist                  song  \\\n",
       "0                 0  Fetty Wap            Trap Queen   \n",
       "1                 0  Fetty Wap            Trap Queen   \n",
       "2                 0  Fetty Wap            Trap Queen   \n",
       "3                 0  Fetty Wap            Trap Queen   \n",
       "4                 0  Fetty Wap            Trap Queen   \n",
       "...             ...        ...                   ...   \n",
       "1445296       21096    Das EFX  Gimme Dat Micraphone   \n",
       "1445297       21096    Das EFX  Gimme Dat Micraphone   \n",
       "1445298       21096    Das EFX  Gimme Dat Micraphone   \n",
       "1445299       21096    Das EFX  Gimme Dat Micraphone   \n",
       "1445300       21096    Das EFX  Gimme Dat Micraphone   \n",
       "\n",
       "                                                     lyric  \\\n",
       "0                                          rgf productions   \n",
       "1                                          remy boyz yahah   \n",
       "2                                                 1738 ayy   \n",
       "3                              im like hey whats up hello    \n",
       "4          seen yo pretty ass soon as you came in the door   \n",
       "...                                                    ...   \n",
       "1445296   dont let me have to transform like optimus prime   \n",
       "1445297  cause then ima have to flip the script and get...   \n",
       "1445298  run laps around your faggot crew like mario an...   \n",
       "1445299  when i expand like spandex my jam wrecks the a...   \n",
       "1445300  you better be on the way before im doin you an...   \n",
       "\n",
       "                                                next lyric  \n",
       "0                                          remy boyz yahah  \n",
       "1                                                 1738 ayy  \n",
       "2                              im like hey whats up hello   \n",
       "3          seen yo pretty ass soon as you came in the door  \n",
       "4             i just wanna chill got a sack for us to roll  \n",
       "...                                                    ...  \n",
       "1445296  cause then ima have to flip the script and get...  \n",
       "1445297  run laps around your faggot crew like mario an...  \n",
       "1445298  when i expand like spandex my jam wrecks the a...  \n",
       "1445299  you better be on the way before im doin you an...  \n",
       "1445300                                              embed  \n",
       "\n",
       "[1445301 rows x 5 columns]"
      ]
     },
     "execution_count": 1,
     "metadata": {},
     "output_type": "execute_result"
    }
   ],
   "source": [
    "import pandas as pd\n",
    "\n",
    "df = pd.read_csv(\"./data/updated_rappers.csv\")\n",
    "text = \"\\n\".join(list(df[\"lyric\"]))\n",
    "df"
   ]
  },
  {
   "cell_type": "code",
   "execution_count": 2,
   "id": "5e76f268-108d-4349-9575-963f53ba44e9",
   "metadata": {},
   "outputs": [
    {
     "data": {
      "text/plain": [
       "'here'"
      ]
     },
     "execution_count": 2,
     "metadata": {},
     "output_type": "execute_result"
    }
   ],
   "source": [
    "## TOKENIZATION FUNCTIONS\n",
    "charset = sorted(list(set(text)))\n",
    "slookup = {s: i for i, s in enumerate(charset)}\n",
    "ilookup = {i: s for i, s in enumerate(charset)}\n",
    "stoi = lambda x: [slookup[c] for c in x]\n",
    "itos = lambda x: \"\".join([ilookup[num] for num in x])\n",
    "\n",
    "stoi(\"here\")\n",
    "itos([21, 18, 31, 18])"
   ]
  },
  {
   "cell_type": "code",
   "execution_count": 3,
   "id": "ea9919a2-f2bc-4071-9636-095475c5758d",
   "metadata": {},
   "outputs": [
    {
     "name": "stdout",
     "output_type": "stream",
     "text": [
      "== DATASET SAMPLE ==\n",
      "torch.Size([56647830]) torch.int64\n",
      "tensor([31, 20, 19,  2, 29, 31, 28, 17, 34, 16, 33, 22, 28, 27, 32,  1, 31, 18,\n",
      "        26, 38,  2, 15, 28, 38, 39,  2, 38, 14, 21, 14, 21,  1,  4, 10,  6, 11,\n",
      "         2, 14, 38, 38,  1, 22, 26,  2, 25, 22, 24, 18,  2, 21, 18, 38,  2, 36,\n",
      "        21, 14, 33, 32,  2, 34, 29,  2, 21, 18, 25, 25, 28,  2,  1, 32, 18, 18,\n",
      "        27,  2, 38, 28,  2, 29, 31, 18, 33, 33, 38,  2, 14, 32, 32,  2, 32, 28,\n",
      "        28, 27,  2, 14, 32,  2, 38, 28, 34,  2])\n"
     ]
    }
   ],
   "source": [
    "## PREPROCESSING TEXT DATASET\n",
    "import torch\n",
    "data = torch.tensor(stoi(text), dtype=torch.long)\n",
    "print(\"== DATASET SAMPLE ==\")\n",
    "print(data.shape, data.dtype)\n",
    "print(data[:100])\n",
    "\n",
    "train_split = 90\n",
    "split_idx = int(len(data) * (train_split/100))\n",
    "train_data = data[:split_idx]\n",
    "val_data = data[split_idx:]"
   ]
  },
  {
   "cell_type": "code",
   "execution_count": 4,
   "id": "06345695-59b2-491d-b6b7-25367020c6ca",
   "metadata": {},
   "outputs": [
    {
     "name": "stdout",
     "output_type": "stream",
     "text": [
      "ease\n",
      "bit\n",
      "\n",
      "ase\n",
      "bitc\n",
      "----\n",
      "\n",
      "girls g\n",
      "\n",
      "girls ga\n",
      "----\n",
      "ank acco\n",
      "\n",
      "nk accou\n",
      "----\n",
      "travy ou\n",
      "\n",
      "ravy out\n",
      "----\n"
     ]
    }
   ],
   "source": [
    "BATCH_SIZE=4\n",
    "BLOCK_SIZE=8\n",
    "\n",
    "def get_batch(split):\n",
    "    dataset = train_data if split == \"train\" else val_data \n",
    "    # generates n random idxs in the training dataset where n is the batch size\n",
    "    # generates from 0 to number of tokens in the dataset minus the block size to ensure no index out of bounds errors\n",
    "    starts = torch.randint(len(dataset) - BLOCK_SIZE, (BATCH_SIZE,))\n",
    "    # print(starts)\n",
    "    # print([dataset[start: start + BLOCK_SIZE] for start in starts]) \n",
    "    x = torch.stack([dataset[start: start + BLOCK_SIZE] for start in starts])\n",
    "    y = torch.stack([dataset[start+1: (start+1) + BLOCK_SIZE] for start in starts])\n",
    "\n",
    "    return x, y\n",
    "\n",
    "xb, yb = get_batch(\"train\")\n",
    "for i in range(len(xb)):\n",
    "    print(itos(xb[i].tolist()))\n",
    "    print()\n",
    "    print(itos(yb[i].tolist()))\n",
    "    print(\"----\")"
   ]
  },
  {
   "cell_type": "code",
   "execution_count": null,
   "id": "a175cba7-d4bb-4430-8c33-08ed0111b0eb",
   "metadata": {},
   "outputs": [],
   "source": []
  },
  {
   "cell_type": "code",
   "execution_count": 5,
   "id": "3b7cd7ac-5eb4-41e0-a19d-dc47736f9006",
   "metadata": {},
   "outputs": [
    {
     "name": "stdout",
     "output_type": "stream",
     "text": [
      "56647830\n",
      "40\n"
     ]
    }
   ],
   "source": [
    "print(len(data))\n",
    "print(len(set(text)))\n",
    "vocab_size = len(set(text))"
   ]
  },
  {
   "cell_type": "code",
   "execution_count": 6,
   "id": "2d508f17-ade9-4e71-a6fe-798f9fb9c194",
   "metadata": {},
   "outputs": [
    {
     "name": "stdout",
     "output_type": "stream",
     "text": [
      "LOSS 3.7724997997283936\n",
      "torch.Size([32, 40])\n",
      "tensor([[ 0.4064,  0.3521, -0.5285,  ..., -1.0284,  1.5800,  1.5097],\n",
      "        [-0.3247,  0.3886, -0.4949,  ..., -0.5203,  0.5460,  0.1305],\n",
      "        [-1.4192,  0.0943, -1.3523,  ..., -0.8468, -0.6703,  1.2105],\n",
      "        ...,\n",
      "        [ 0.4875, -1.7064, -2.1134,  ...,  0.1855,  2.8671,  0.4348],\n",
      "        [ 1.6937,  0.3600,  0.3416,  ..., -0.5112,  0.5251,  0.8031],\n",
      "        [-1.9528, -1.3383,  1.8093,  ...,  0.7531,  2.3565, -0.7213]],\n",
      "       grad_fn=<ViewBackward0>)\n"
     ]
    }
   ],
   "source": [
    "## SIMPLEST NEURAL NETWORK FOR LANGUAGE MODELING\n",
    "## BIGRAM LANGUAGE MODEL\n",
    "import torch\n",
    "import torch.nn as nn\n",
    "from torch.nn import functional as F\n",
    "\n",
    "# torch.manual_seed(1337)\n",
    "\n",
    "class BigramLanguageModel(nn.Module):\n",
    "    def __init__(self, vocab_size):\n",
    "        super().__init__()\n",
    "        # each row is an embedding\n",
    "        self.embedding_table = nn.Embedding(vocab_size, vocab_size)\n",
    "\n",
    "    def forward(self, idx, targets=None):\n",
    "        # logits is in the dimensions (B, T, C)\n",
    "        # B (batch) is BATCH_SIZE\n",
    "        # T (time/block size) is BLOCK_SIZE\n",
    "        # C (channel) is the vocab_size - length of set of all tokens (in this case all characters in our data)\n",
    "        logits = self.embedding_table(idx)\n",
    "        # logits are the raw outputs of a randomly initialized model\n",
    "        # these are the predictions from our input idx for the next character\n",
    "        # idx is the input which is a batch of n token sequences and embedding_table() will replace each token in each token sequence with the embedding of the next token prediction for all tokens up till that token (inclusive)\n",
    "\n",
    "        if targets != None:\n",
    "            # RESIZING (for the cross entropy funciton)\n",
    "            # pytorch wants the dimensions to be (B, C, T)\n",
    "            B, T, C = logits.shape\n",
    "            # (B, T, C) -> (B*T, C)\n",
    "            logits = logits.view(B*T, C) # dropping batch dimension so now its just a stack of length 40 arrays for all characters in the initial xb mat\n",
    "            # (B, T) -> (B*T)\n",
    "            targets = targets.view(B*T)\n",
    "    \n",
    "            # LOSS FUNCTION - to measure quality of predictions\n",
    "            # ENTROPY H(x) = -Σ p(x)log(p(x))\n",
    "            # CROSS ENTROPY C(x) = -Σ y_c log(p_c) - summed over all classes c: class_label * log(predicted probability of that class)\n",
    "            loss = F.cross_entropy(logits, targets)\n",
    "        else:\n",
    "            loss = None\n",
    "\n",
    "        return logits, loss\n",
    "        \n",
    "    def generate(self, idx, max_gen_tokens):\n",
    "        # idx is a batch of *batch_size* selected token sequences \n",
    "        # each iteration a new predicted token will be appended to the end of the token sequence\n",
    "        # print(idx.shape)\n",
    "        # print(idx)\n",
    "        # print(\"----\")\n",
    "        for _ in range(max_gen_tokens):\n",
    "            # gets the predictions for each token subsequence in each sequence of the batch token sequences\n",
    "            # also gets the loss of all predictions\n",
    "            logits, loss = self(idx)\n",
    "\n",
    "            # now we need to pluck out the last term in the token sequence to use for next token prediction generation\n",
    "            # so we essentially for each batch replace each length 8 vector of embeddings in logits with the last embedding in that length 8 vector\n",
    "            logits = logits[:, -1, :] \n",
    "            # print(logits.shape)\n",
    "            # print(logits)\n",
    "            # we run softmax on the dimension that contains the last in sequence length 40 vector embeddings we just isolated in the previous step to get the probability distribution to sample from for generating the next predicted token\n",
    "            probs = F.softmax(logits, dim=-1)\n",
    "            next_token_index = torch.multinomial(probs, num_samples=1) # now we have a single next token prediction for each vector embedding in each batch\n",
    "            idx = torch.cat((idx, next_token_index), dim=1)\n",
    "            # print(idx.shape)\n",
    "            # print(idx)\n",
    "\n",
    "        return idx\n",
    "\n",
    "BLM = BigramLanguageModel(vocab_size)\n",
    "logits, loss = BLM(xb, yb)\n",
    "print(f\"LOSS {loss}\")\n",
    "print(logits.shape)\n",
    "print(logits)"
   ]
  },
  {
   "cell_type": "code",
   "execution_count": 7,
   "id": "a30e3e51-d622-4d2b-9174-ec82182c6e67",
   "metadata": {},
   "outputs": [
    {
     "name": "stdout",
     "output_type": "stream",
     "text": [
      "torch.Size([1, 11])\n",
      "\too\to83k yo\n"
     ]
    }
   ],
   "source": [
    "## TESTING GENERATION\n",
    "idx = torch.zeros((1, 1), dtype=torch.long)\n",
    "generated = BLM.generate(idx, 10)\n",
    "print(generated.shape)\n",
    "print(itos(generated[0].tolist()))"
   ]
  },
  {
   "cell_type": "code",
   "execution_count": 8,
   "id": "c72ac582-21b3-4264-86af-7a2ebf3a63cb",
   "metadata": {},
   "outputs": [
    {
     "name": "stdout",
     "output_type": "stream",
     "text": [
      "EPOCH 0 | LOSS 4.12475061416626\n",
      "EPOCH 100 | LOSS 3.93949556350708\n",
      "EPOCH 200 | LOSS 3.7314207553863525\n",
      "EPOCH 300 | LOSS 3.7933692932128906\n",
      "EPOCH 400 | LOSS 3.729433059692383\n",
      "EPOCH 500 | LOSS 3.6318516731262207\n",
      "EPOCH 600 | LOSS 3.4840993881225586\n",
      "EPOCH 700 | LOSS 3.3650481700897217\n",
      "EPOCH 800 | LOSS 3.425769567489624\n",
      "EPOCH 900 | LOSS 3.3558685779571533\n",
      "EPOCH 1000 | LOSS 3.2787322998046875\n",
      "EPOCH 1100 | LOSS 3.309098482131958\n",
      "EPOCH 1200 | LOSS 3.0937459468841553\n",
      "EPOCH 1300 | LOSS 3.031726598739624\n",
      "EPOCH 1400 | LOSS 2.9843480587005615\n",
      "EPOCH 1500 | LOSS 2.920161724090576\n",
      "EPOCH 1600 | LOSS 2.8104605674743652\n",
      "EPOCH 1700 | LOSS 2.925705671310425\n",
      "EPOCH 1800 | LOSS 2.7500736713409424\n",
      "EPOCH 1900 | LOSS 2.774716854095459\n",
      "EPOCH 2000 | LOSS 2.7635817527770996\n",
      "EPOCH 2100 | LOSS 2.833653450012207\n",
      "EPOCH 2200 | LOSS 2.7091481685638428\n",
      "EPOCH 2300 | LOSS 2.658472776412964\n",
      "EPOCH 2400 | LOSS 2.7535979747772217\n",
      "EPOCH 2500 | LOSS 2.7589471340179443\n",
      "EPOCH 2600 | LOSS 2.6209614276885986\n",
      "EPOCH 2700 | LOSS 2.6472432613372803\n",
      "EPOCH 2800 | LOSS 2.543592929840088\n",
      "EPOCH 2900 | LOSS 2.6289560794830322\n",
      "EPOCH 3000 | LOSS 2.5917205810546875\n",
      "EPOCH 3100 | LOSS 2.6273131370544434\n",
      "EPOCH 3200 | LOSS 2.5718271732330322\n",
      "EPOCH 3300 | LOSS 2.5950887203216553\n",
      "EPOCH 3400 | LOSS 2.588447093963623\n",
      "EPOCH 3500 | LOSS 2.5052201747894287\n",
      "EPOCH 3600 | LOSS 2.433032274246216\n",
      "EPOCH 3700 | LOSS 2.5243029594421387\n",
      "EPOCH 3800 | LOSS 2.4980554580688477\n",
      "EPOCH 3900 | LOSS 2.496150016784668\n",
      "EPOCH 4000 | LOSS 2.5138425827026367\n",
      "EPOCH 4100 | LOSS 2.4538559913635254\n",
      "EPOCH 4200 | LOSS 2.3943538665771484\n",
      "EPOCH 4300 | LOSS 2.4690988063812256\n",
      "EPOCH 4400 | LOSS 2.418555498123169\n",
      "EPOCH 4500 | LOSS 2.5998544692993164\n",
      "EPOCH 4600 | LOSS 2.5984444618225098\n",
      "EPOCH 4700 | LOSS 2.5966200828552246\n",
      "EPOCH 4800 | LOSS 2.37783145904541\n",
      "EPOCH 4900 | LOSS 2.5388734340667725\n",
      "EPOCH 5000 | LOSS 2.5322132110595703\n",
      "EPOCH 5100 | LOSS 2.470428466796875\n",
      "EPOCH 5200 | LOSS 2.4432480335235596\n",
      "EPOCH 5300 | LOSS 2.483581304550171\n",
      "EPOCH 5400 | LOSS 2.477520227432251\n",
      "EPOCH 5500 | LOSS 2.3861050605773926\n",
      "EPOCH 5600 | LOSS 2.3975448608398438\n",
      "EPOCH 5700 | LOSS 2.470947265625\n",
      "EPOCH 5800 | LOSS 2.4600565433502197\n",
      "EPOCH 5900 | LOSS 2.488542079925537\n",
      "EPOCH 6000 | LOSS 2.3587162494659424\n",
      "EPOCH 6100 | LOSS 2.4413113594055176\n",
      "EPOCH 6200 | LOSS 2.375662088394165\n",
      "EPOCH 6300 | LOSS 2.520627498626709\n",
      "EPOCH 6400 | LOSS 2.3756797313690186\n",
      "EPOCH 6500 | LOSS 2.5297257900238037\n",
      "EPOCH 6600 | LOSS 2.423858880996704\n",
      "EPOCH 6700 | LOSS 2.4907212257385254\n",
      "EPOCH 6800 | LOSS 2.5113067626953125\n",
      "EPOCH 6900 | LOSS 2.342478036880493\n",
      "EPOCH 7000 | LOSS 2.406627655029297\n",
      "EPOCH 7100 | LOSS 2.4386870861053467\n",
      "EPOCH 7200 | LOSS 2.3950629234313965\n",
      "EPOCH 7300 | LOSS 2.4404828548431396\n",
      "EPOCH 7400 | LOSS 2.4955501556396484\n",
      "EPOCH 7500 | LOSS 2.439167022705078\n",
      "EPOCH 7600 | LOSS 2.324345827102661\n",
      "EPOCH 7700 | LOSS 2.4809610843658447\n",
      "EPOCH 7800 | LOSS 2.391491174697876\n",
      "EPOCH 7900 | LOSS 2.3169503211975098\n",
      "EPOCH 8000 | LOSS 2.3270676136016846\n",
      "EPOCH 8100 | LOSS 2.300140619277954\n",
      "EPOCH 8200 | LOSS 2.4141685962677\n",
      "EPOCH 8300 | LOSS 2.5000085830688477\n",
      "EPOCH 8400 | LOSS 2.3661768436431885\n",
      "EPOCH 8500 | LOSS 2.561177968978882\n",
      "EPOCH 8600 | LOSS 2.375549554824829\n",
      "EPOCH 8700 | LOSS 2.558556318283081\n",
      "EPOCH 8800 | LOSS 2.492753028869629\n",
      "EPOCH 8900 | LOSS 2.5619301795959473\n",
      "EPOCH 9000 | LOSS 2.4008471965789795\n",
      "EPOCH 9100 | LOSS 2.4668383598327637\n",
      "EPOCH 9200 | LOSS 2.3646483421325684\n",
      "EPOCH 9300 | LOSS 2.344515562057495\n",
      "EPOCH 9400 | LOSS 2.4793896675109863\n",
      "EPOCH 9500 | LOSS 2.487393856048584\n",
      "EPOCH 9600 | LOSS 2.371807336807251\n",
      "EPOCH 9700 | LOSS 2.3368427753448486\n",
      "EPOCH 9800 | LOSS 2.392890453338623\n",
      "EPOCH 9900 | LOSS 2.369284152984619\n"
     ]
    }
   ],
   "source": [
    "## TRAINING\n",
    "# pytorch optimization object\n",
    "# the learning rate is kind of high and we can get away with that because the the BigramLanguageModel is a very small network\n",
    "optimizer = torch.optim.AdamW(BLM.parameters(), lr=1e-3)\n",
    "\n",
    "## changing batch size from 4 to 32\n",
    "BATCH_SIZE = 32\n",
    "\n",
    "elosses = []\n",
    "losses = []\n",
    "for epoch in range(10000):\n",
    "    # gets a batch of training data\n",
    "    xb, yb = get_batch('train')\n",
    "\n",
    "    # evaluation, gradient calculation, optimization\n",
    "    logits, loss = BLM(xb, yb)\n",
    "    optimizer.zero_grad(set_to_none=True)\n",
    "    loss.backward()\n",
    "    optimizer.step()\n",
    "\n",
    "    if epoch % 100 == 0:\n",
    "        print(f\"EPOCH {epoch} | LOSS {loss.item()}\")\n",
    "        elosses.append(loss.item())\n",
    "    losses.append(loss.item())"
   ]
  },
  {
   "cell_type": "code",
   "execution_count": 9,
   "id": "3e8fe07e-c4c4-46d5-8289-845a0dad3bfd",
   "metadata": {},
   "outputs": [
    {
     "data": {
      "text/plain": [
       "[<matplotlib.lines.Line2D at 0x17e002ba0>]"
      ]
     },
     "execution_count": 9,
     "metadata": {},
     "output_type": "execute_result"
    },
    {
     "data": {
      "image/png": "[encoded data removed]",
      "text/plain": [
       "<Figure size 432x288 with 1 Axes>"
      ]
     },
     "metadata": {
      "needs_background": "light"
     },
     "output_type": "display_data"
    }
   ],
   "source": [
    "import matplotlib.pyplot as plt\n",
    "\n",
    "plt.plot(losses)"
   ]
  },
  {
   "cell_type": "code",
   "execution_count": 10,
   "id": "7b6acf6b-2e5a-4d7f-8654-ad8afe8c7ec6",
   "metadata": {},
   "outputs": [
    {
     "data": {
      "text/plain": [
       "[<matplotlib.lines.Line2D at 0x17e6d6480>]"
      ]
     },
     "execution_count": 10,
     "metadata": {},
     "output_type": "execute_result"
    },
    {
     "data": {
      "image/png": "[encoded data removed]",
      "text/plain": [
       "<Figure size 432x288 with 1 Axes>"
      ]
     },
     "metadata": {
      "needs_background": "light"
     },
     "output_type": "display_data"
    }
   ],
   "source": [
    "plt.plot(elosses)"
   ]
  },
  {
   "cell_type": "code",
   "execution_count": 11,
   "id": "5dc04388-1ae5-470d-8290-f721484e4b24",
   "metadata": {},
   "outputs": [
    {
     "name": "stdout",
     "output_type": "stream",
     "text": [
      "torch.Size([1, 1001])\n",
      "\t7 c9allimyollind m ioheie\n",
      "y\n",
      "toromy ilse us nind y cht an ale jurps s un tim g s m iqig bas ghu th q bel indo wes\n",
      "aha faseat n  bemeryoru ckineyon\n",
      "y s ts t tin \n",
      "fonabood td in\n",
      "heap fougorlkegeveerdofacesho chen won igouth drohothrkndouni ithe w m far anvealonhig y getome bry ggs p a thuy byoury jur wh y mabe alychubu r it haksy deaticonigann lminncare winonth tr bot te ckimndelirkiflis\n",
      "lllerffay intackes s the w fig dou s tllis wend\n",
      "n si vedrihede\n",
      "s a d ldn t i tdubarthathonde tntrey t tystheranowatheangg ane mersoptimin gowo me\n",
      "g\n",
      "iveethhenerl ll tt s inuckneamy t gou\n",
      "thousst\n",
      "wes inggeome d in whou wh the ikouca sope shef cri tous man oowi wha lens o ane oup448fu hy ga ositind  bt eyove us kit pesak t r y t ghee d\n",
      "ye m\n",
      "h nok lat tck a hleex m h ad\n",
      "inte l gabarore ontowapede3t gur yowin athtetto bassetat s im mingack\n",
      "d\tat\n",
      "heme gg yar d cathqu twalitut whhramfes a7_ze ivit\n",
      "es merdrwyirofoollanonell n in wou neaich hot r st wh y\n",
      "yootsthe e p be ga ape gxpll t j d makermy m mopsod\n",
      "lstist in\n"
     ]
    }
   ],
   "source": [
    "# POST TRAINING GENERATION\n",
    "idx = torch.zeros((1, 1), dtype=torch.long)\n",
    "generated = BLM.generate(idx, 1000)\n",
    "print(generated.shape)\n",
    "print(itos(generated[0].tolist()))"
   ]
  },
  {
   "cell_type": "code",
   "execution_count": null,
   "id": "2365e468-ef42-4f35-9517-39e468ec4105",
   "metadata": {},
   "outputs": [],
   "source": []
  }
 ],
 "metadata": {
  "kernelspec": {
   "display_name": "Python 3 (ipykernel)",
   "language": "python",
   "name": "python3"
  },
  "language_info": {
   "codemirror_mode": {
    "name": "ipython",
    "version": 3
   },
   "file_extension": ".py",
   "mimetype": "text/x-python",
   "name": "python",
   "nbconvert_exporter": "python",
   "pygments_lexer": "ipython3",
   "version": "3.12.5"
  }
 },
 "nbformat": 4,
 "nbformat_minor": 5
}
